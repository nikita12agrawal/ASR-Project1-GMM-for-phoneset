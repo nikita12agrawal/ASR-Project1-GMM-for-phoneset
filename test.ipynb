{
 "cells": [
  {
   "cell_type": "markdown",
   "metadata": {},
   "source": [
    "### TESTING OF GMM MODELS FOR 40 CLASSES OF PHONEMES"
   ]
  },
  {
   "cell_type": "code",
   "execution_count": 1,
   "metadata": {},
   "outputs": [],
   "source": [
    "from sklearn.mixture import GaussianMixture as GMM\n",
    "from sklearn.datasets.samples_generator import make_blobs\n",
    "import matplotlib.pyplot as plt\n",
    "import numpy as np\n",
    "import pandas as pd\n",
    "import pickle"
   ]
  },
  {
   "cell_type": "code",
   "execution_count": 2,
   "metadata": {
    "scrolled": true
   },
   "outputs": [
    {
     "name": "stdout",
     "output_type": "stream",
     "text": [
      "['sil', 'sh', 'ih', 'hh', 'eh', 'jh', 'd', 'ah', 'k', 's', 'uw', '', 'n', 'g', 'r', 'w', 'aa', 'dx', 'er', 'l', 'y', 'uh', 'ae', 'm', 'oy', 'dh', 'iy', 'v', 'f', 't', 'ow', 'ch', 'b', 'ng', 'ay', 'th', 'ey', 'p', 'aw', 'z']\n"
     ]
    }
   ],
   "source": [
    "#reading different phoneme names from phoneme_text file\n",
    "with open(\"phoneme_name.txt\", \"r\") as file:\n",
    "    phoneme_names = file.readlines()\n",
    "phoneme_names = [ele.strip().split(\",\") for ele in phoneme_names]\n",
    "phoneme_names = phoneme_names[0][:-1]\n",
    "print(phoneme_names)"
   ]
  },
  {
   "cell_type": "code",
   "execution_count": 5,
   "metadata": {},
   "outputs": [
    {
     "name": "stdout",
     "output_type": "stream",
     "text": [
      "{'k': 8, '': 11, 'g': 13, 'z': 39, 'ay': 34, 'eh': 4, 'ah': 7, 'n': 12, 'jh': 5, 'th': 35, 'aw': 38, 'uh': 21, 'iy': 26, 's': 9, 'y': 20, 'aa': 16, 'ih': 2, 'ey': 36, 'p': 37, 'r': 14, 'dh': 25, 'ch': 31, 'oy': 24, 'd': 6, 'er': 18, 'w': 15, 'f': 28, 'sh': 1, 'm': 23, 'l': 19, 'sil': 0, 'ae': 22, 'v': 27, 'uw': 10, 'dx': 17, 'hh': 3, 'ng': 33, 'ow': 30, 't': 29, 'b': 32}\n",
      "{0: 'sil', 1: 'sh', 2: 'ih', 3: 'hh', 4: 'eh', 5: 'jh', 6: 'd', 7: 'ah', 8: 'k', 9: 's', 10: 'uw', 11: '', 12: 'n', 13: 'g', 14: 'r', 15: 'w', 16: 'aa', 17: 'dx', 18: 'er', 19: 'l', 20: 'y', 21: 'uh', 22: 'ae', 23: 'm', 24: 'oy', 25: 'dh', 26: 'iy', 27: 'v', 28: 'f', 29: 't', 30: 'ow', 31: 'ch', 32: 'b', 33: 'ng', 34: 'ay', 35: 'th', 36: 'ey', 37: 'p', 38: 'aw', 39: 'z'}\n"
     ]
    }
   ],
   "source": [
    "#creating a dictionary which contains phoneme names and corresponding number\n",
    "int_to_label=dict((i,c) for i,c in enumerate(phoneme_names))\n",
    "label_to_int=dict((c,i) for i,c in enumerate(phoneme_names))\n",
    "print(label_to_int)\n",
    "print(int_to_label)\n"
   ]
  },
  {
   "cell_type": "code",
   "execution_count": 6,
   "metadata": {},
   "outputs": [],
   "source": [
    "#loading test dataset \n",
    "timit_test_df = pd.read_hdf(\"./test_features/mfcc/timit.hdf\")\n",
    "test_features = np.array(timit_test_df[\"features\"].tolist())\n",
    "test_labels = np.array(timit_test_df[\"labels\"].tolist())\n",
    "test_labels = test_labels.reshape(test_labels.size, 1)\n",
    "total_test_sample = test_features.shape[0]"
   ]
  },
  {
   "cell_type": "markdown",
   "metadata": {},
   "source": [
    "## Testing test data set with different number of mixtures only for Case (a) for MFCC (ii) without energy coefficients - (2, 4, 8, 16, 32, 64,128,256)"
   ]
  },
  {
   "cell_type": "markdown",
   "metadata": {},
   "source": [
    "### mixture component : 2"
   ]
  },
  {
   "cell_type": "code",
   "execution_count": null,
   "metadata": {},
   "outputs": [],
   "source": [
    "# loading model from pickle file and storing it into list\n",
    "gmm = []\n",
    "for i in range(len(phoneme_names)):\n",
    "    path = \"models//002_mfcc//\"+phoneme_names[i]+\".pkl\"\n",
    "    with open(path, 'rb') as f:\n",
    "        gmm.append(pickle.load(f))\n",
    "# testing dataset \n",
    "match_found=0\n",
    "for i in range (total_test_sample):\n",
    "    temp = test_features[i,1:]\n",
    "    temp = temp.reshape(1,12)\n",
    "    ground_truth = label_to_int[test_labels[i][0]]\n",
    "    likelihood=[]\n",
    "    for j in range (len(gmm)):\n",
    "        likelihood.append(gmm[j].score(temp))\n",
    "    predicted_label=likelihood.index(max(likelihood))\n",
    "    if predicted_label==ground_truth:\n",
    "        match_found=match_found+1\n",
    "print(\"Total test samples predicted label matched with ground truth=: \",match_found)\n",
    "accuracy=(match_found/total_test_sample)*100\n",
    "print(\"Accuracy of model is: \",accuracy)"
   ]
  },
  {
   "cell_type": "markdown",
   "metadata": {},
   "source": [
    "### mixture component : 4"
   ]
  },
  {
   "cell_type": "code",
   "execution_count": 8,
   "metadata": {
    "scrolled": true
   },
   "outputs": [
    {
     "name": "stdout",
     "output_type": "stream",
     "text": [
      "Total test samples predicted label matched with ground truth=:  59982\n",
      "Accuracy of model is:  13.280343621308063\n"
     ]
    }
   ],
   "source": [
    "# loading model from pickle file and storing it into list\n",
    "gmm = []\n",
    "for i in range(len(phoneme_names)):\n",
    "    path = \"models//004//\"+phoneme_names[i]+\".pkl\"\n",
    "    with open(path, 'rb') as f:\n",
    "        gmm.append(pickle.load(f))\n",
    "# testing dataset \n",
    "match_found=0\n",
    "for i in range (total_test_sample):\n",
    "    temp = test_features[i,1:]\n",
    "    temp = temp.reshape(1,12)\n",
    "    ground_truth = label_to_int[test_labels[i][0]]\n",
    "    likelihood=[]\n",
    "    for j in range (len(gmm)):\n",
    "        likelihood.append(gmm[j].score(temp))\n",
    "    predicted_label=likelihood.index(max(likelihood))\n",
    "    if predicted_label==ground_truth:\n",
    "        match_found=match_found+1\n",
    "print(\"Total test samples predicted label matched with ground truth=: \",match_found)\n",
    "accuracy=(match_found/total_test_sample)*100\n",
    "print(\"Accuracy of model is: \",accuracy)"
   ]
  },
  {
   "cell_type": "markdown",
   "metadata": {},
   "source": [
    "### mixture component : 8"
   ]
  },
  {
   "cell_type": "code",
   "execution_count": 10,
   "metadata": {},
   "outputs": [
    {
     "name": "stdout",
     "output_type": "stream",
     "text": [
      "Total test samples predicted label matched with ground truth=  61081\n",
      "Accuracy of model is:  13.523668246025771\n"
     ]
    }
   ],
   "source": [
    "# loading model from pickle file and storing it into list\n",
    "gmm = []\n",
    "for i in range(len(phoneme_names)):\n",
    "    path = \"models//008//\"+phoneme_names[i]+\".pkl\"\n",
    "    with open(path, 'rb') as f:\n",
    "        gmm.append(pickle.load(f))\n",
    "# testing dataset \n",
    "match_found=0\n",
    "for i in range (total_test_sample):\n",
    "    temp = test_features[i,1:]\n",
    "    temp = temp.reshape(1,12)\n",
    "    ground_truth = label_to_int[test_labels[i][0]]\n",
    "    likelihood=[]\n",
    "    for j in range (len(gmm)):\n",
    "        likelihood.append(gmm[j].score(temp))\n",
    "    predicted_label=likelihood.index(max(likelihood))\n",
    "    if predicted_label==ground_truth:\n",
    "        match_found=match_found+1\n",
    "print(\"Total test samples predicted label matched with ground truth= \",match_found)\n",
    "accuracy=(match_found/total_test_sample)*100\n",
    "print(\"Accuracy of model is: \",accuracy)"
   ]
  },
  {
   "cell_type": "markdown",
   "metadata": {},
   "source": [
    "### mixture component : 16"
   ]
  },
  {
   "cell_type": "code",
   "execution_count": 11,
   "metadata": {},
   "outputs": [
    {
     "name": "stdout",
     "output_type": "stream",
     "text": [
      "Total test samples predicted label matched with ground truth=:  62803\n",
      "Accuracy of model is:  13.904928486029315\n"
     ]
    }
   ],
   "source": [
    "# loading model from pickle file and storing it into list\n",
    "gmm = []\n",
    "for i in range(len(phoneme_names)):\n",
    "    path = \"models//016//\"+phoneme_names[i]+\".pkl\"\n",
    "    with open(path, 'rb') as f:\n",
    "        gmm.append(pickle.load(f))\n",
    "# testing dataset \n",
    "match_found=0\n",
    "for i in range (total_test_sample):\n",
    "    temp = test_features[i,1:]\n",
    "    temp = temp.reshape(1,12)\n",
    "    ground_truth = label_to_int[test_labels[i][0]]\n",
    "    likelihood=[]\n",
    "    for j in range (len(gmm)):\n",
    "        likelihood.append(gmm[j].score(temp))\n",
    "    predicted_label=likelihood.index(max(likelihood))\n",
    "    if predicted_label==ground_truth:\n",
    "        match_found=match_found+1\n",
    "print(\"Total test samples predicted label matched with ground truth=: \",match_found)\n",
    "accuracy=(match_found/total_test_sample)*100\n",
    "print(\"Accuracy of model is: \",accuracy)"
   ]
  },
  {
   "cell_type": "markdown",
   "metadata": {},
   "source": [
    "### mixture component : 32"
   ]
  },
  {
   "cell_type": "code",
   "execution_count": 12,
   "metadata": {},
   "outputs": [
    {
     "name": "stdout",
     "output_type": "stream",
     "text": [
      "Total test samples predicted label matched with ground truth=:  61847\n",
      "Accuracy of model is:  13.693264845237568\n"
     ]
    }
   ],
   "source": [
    "# loading model from pickle file and storing it into list\n",
    "gmm = []\n",
    "for i in range(len(phoneme_names)):\n",
    "    path = \"models//032//\"+phoneme_names[i]+\".pkl\"\n",
    "    with open(path, 'rb') as f:\n",
    "        gmm.append(pickle.load(f))\n",
    "# testing dataset \n",
    "match_found=0\n",
    "for i in range (total_test_sample):\n",
    "    temp = test_features[i,1:]\n",
    "    temp = temp.reshape(1,12)\n",
    "    ground_truth = label_to_int[test_labels[i][0]]\n",
    "    likelihood=[]\n",
    "    for j in range (len(gmm)):\n",
    "        likelihood.append(gmm[j].score(temp))\n",
    "    predicted_label=likelihood.index(max(likelihood))\n",
    "    if predicted_label==ground_truth:\n",
    "        match_found=match_found+1\n",
    "print(\"Total test samples predicted label matched with ground truth=: \",match_found)\n",
    "accuracy=(match_found/total_test_sample)*100\n",
    "print(\"Accuracy of model is: \",accuracy)"
   ]
  },
  {
   "cell_type": "markdown",
   "metadata": {},
   "source": [
    "### mixture component : 64"
   ]
  },
  {
   "cell_type": "code",
   "execution_count": 13,
   "metadata": {},
   "outputs": [
    {
     "name": "stdout",
     "output_type": "stream",
     "text": [
      "Total test samples predicted label matched with ground truth:  59181\n",
      "Accuracy of model is:  13.102997830226276\n"
     ]
    }
   ],
   "source": [
    "# loading model from pickle file and storing it into list\n",
    "gmm = []\n",
    "for i in range(len(phoneme_names)):\n",
    "    path = \"models//064//\"+phoneme_names[i]+\".pkl\"\n",
    "    with open(path, 'rb') as f:\n",
    "        gmm.append(pickle.load(f))\n",
    "# testing dataset\n",
    "match_found=0\n",
    "for i in range (total_test_sample):\n",
    "    temp = test_features[i,1:]\n",
    "    temp = temp.reshape(1,12)\n",
    "    ground_truth = label_to_int[test_labels[i][0]]\n",
    "    likelihood=[]\n",
    "    for j in range (len(gmm)):\n",
    "        likelihood.append(gmm[j].score(temp))\n",
    "    predicted_label=likelihood.index(max(likelihood))\n",
    "    if predicted_label==ground_truth:\n",
    "        match_found=match_found+1\n",
    "print(\"Total test samples predicted label matched with ground truth: \",match_found)\n",
    "accuracy=(match_found/total_test_sample)*100\n",
    "print(\"Accuracy of model is: \",accuracy)"
   ]
  },
  {
   "cell_type": "markdown",
   "metadata": {},
   "source": [
    "### mixture component : 128"
   ]
  },
  {
   "cell_type": "code",
   "execution_count": 14,
   "metadata": {},
   "outputs": [
    {
     "name": "stdout",
     "output_type": "stream",
     "text": [
      "Total test samples predicted label matched with ground truth:  56594\n",
      "Accuracy of model is:  12.530221848292964\n"
     ]
    }
   ],
   "source": [
    "# loading model from pickle file and storing it into list\n",
    "gmm = []\n",
    "for i in range(len(phoneme_names)):\n",
    "    path = \"models//128//\"+phoneme_names[i]+\".pkl\"\n",
    "    with open(path, 'rb') as f:\n",
    "        gmm.append(pickle.load(f))\n",
    "# testing dataset\n",
    "match_found=0\n",
    "for i in range (total_test_sample):\n",
    "    temp = test_features[i,1:]\n",
    "    temp = temp.reshape(1,12)\n",
    "    ground_truth = label_to_int[test_labels[i][0]]\n",
    "    likelihood=[]\n",
    "    for j in range (len(gmm)):\n",
    "        likelihood.append(gmm[j].score(temp))\n",
    "    predicted_label=likelihood.index(max(likelihood))\n",
    "    if predicted_label==ground_truth:\n",
    "        match_found=match_found+1\n",
    "print(\"Total test samples predicted label matched with ground truth: \",match_found)\n",
    "accuracy=(match_found/total_test_sample)*100\n",
    "print(\"Accuracy of model is: \",accuracy)"
   ]
  },
  {
   "cell_type": "markdown",
   "metadata": {},
   "source": [
    "### mixture component :  256"
   ]
  },
  {
   "cell_type": "code",
   "execution_count": 15,
   "metadata": {},
   "outputs": [
    {
     "name": "stdout",
     "output_type": "stream",
     "text": [
      "Total test samples predicted label matched with ground truth:  54483\n",
      "Accuracy of model is:  12.062834875791523\n"
     ]
    }
   ],
   "source": [
    "# loading model from pickle file and storing it into list\n",
    "gmm = []\n",
    "for i in range(len(phoneme_names)):\n",
    "    path = \"models//256//\"+phoneme_names[i]+\".pkl\"\n",
    "    with open(path, 'rb') as f:\n",
    "        gmm.append(pickle.load(f))\n",
    "# testing dataset \n",
    "match_found=0\n",
    "for i in range (total_test_sample):\n",
    "    temp = test_features[i,1:]\n",
    "    temp = temp.reshape(1,12)\n",
    "    ground_truth = label_to_int[test_labels[i][0]]\n",
    "    likelihood=[]\n",
    "    for j in range (len(gmm)):\n",
    "        likelihood.append(gmm[j].score(temp))\n",
    "    predicted_label=likelihood.index(max(likelihood))\n",
    "    if predicted_label==ground_truth:\n",
    "        match_found=match_found+1\n",
    "print(\"Total test samples predicted label matched with ground truth: \",match_found)\n",
    "accuracy=(match_found/total_test_sample)*100\n",
    "print(\"Accuracy of model is: \",accuracy)"
   ]
  },
  {
   "cell_type": "code",
   "execution_count": null,
   "metadata": {},
   "outputs": [],
   "source": []
  }
 ],
 "metadata": {
  "kernelspec": {
   "display_name": "Python 3",
   "language": "python",
   "name": "python3"
  },
  "language_info": {
   "codemirror_mode": {
    "name": "ipython",
    "version": 3
   },
   "file_extension": ".py",
   "mimetype": "text/x-python",
   "name": "python",
   "nbconvert_exporter": "python",
   "pygments_lexer": "ipython3",
   "version": "3.5.6"
  }
 },
 "nbformat": 4,
 "nbformat_minor": 2
}
